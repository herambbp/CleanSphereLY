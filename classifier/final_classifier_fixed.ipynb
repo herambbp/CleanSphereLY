{
 "cells": [
  {
   "cell_type": "markdown",
   "id": "395e2028",
   "metadata": {},
   "source": [
    "\n",
    "# Hate/Offensive Speech Classifier — Clean Training Notebook\n",
    "\n",
    "This notebook retrains the model from **`data/labeled_data.csv`** (no legacy `.p` files), handles encoding issues, saves artifacts to the **`classifier/`** folder, and is compatible with `classifier/classifier.py` for inference.\n"
   ]
  },
  {
   "cell_type": "code",
   "execution_count": 3,
   "id": "10731e46",
   "metadata": {},
   "outputs": [],
   "source": [
    "\n",
    "# ---- Setup & imports\n",
    "import os, re, joblib, numpy as np, pandas as pd\n",
    "from sklearn.model_selection import train_test_split\n",
    "from sklearn.linear_model import LogisticRegression\n",
    "from sklearn.metrics import classification_report, accuracy_score\n",
    "from sklearn.feature_extraction.text import TfidfVectorizer\n",
    "\n",
    "# Reproducibility\n",
    "RANDOM_STATE = 42\n",
    "\n",
    "# Paths (run notebook from the project root)\n",
    "DATA_CSV = os.path.join(\"../data\", \"labeled_data.csv\")\n",
    "ARTIFACT_DIR = \"classifier\"               # where classifier.py will look\n",
    "MODEL_PATH = os.path.join(ARTIFACT_DIR, \"final_model.pkl\")\n",
    "TFIDF_PATH = os.path.join(ARTIFACT_DIR, \"final_tfidf.pkl\")\n",
    "IDF_PATH   = os.path.join(ARTIFACT_DIR, \"final_idf.pkl\")   # legacy compat\n",
    "POS_PATH   = os.path.join(ARTIFACT_DIR, \"final_pos.pkl\")   # legacy compat\n"
   ]
  },
  {
   "cell_type": "code",
   "execution_count": 4,
   "id": "3c82f547",
   "metadata": {},
   "outputs": [
    {
     "name": "stdout",
     "output_type": "stream",
     "text": [
      "Loaded: 24783 rows\n"
     ]
    },
    {
     "data": {
      "text/html": [
       "<div>\n",
       "<style scoped>\n",
       "    .dataframe tbody tr th:only-of-type {\n",
       "        vertical-align: middle;\n",
       "    }\n",
       "\n",
       "    .dataframe tbody tr th {\n",
       "        vertical-align: top;\n",
       "    }\n",
       "\n",
       "    .dataframe thead th {\n",
       "        text-align: right;\n",
       "    }\n",
       "</style>\n",
       "<table border=\"1\" class=\"dataframe\">\n",
       "  <thead>\n",
       "    <tr style=\"text-align: right;\">\n",
       "      <th></th>\n",
       "      <th>Unnamed: 0</th>\n",
       "      <th>count</th>\n",
       "      <th>hate_speech</th>\n",
       "      <th>offensive_language</th>\n",
       "      <th>neither</th>\n",
       "      <th>class</th>\n",
       "      <th>tweet</th>\n",
       "    </tr>\n",
       "  </thead>\n",
       "  <tbody>\n",
       "    <tr>\n",
       "      <th>0</th>\n",
       "      <td>0</td>\n",
       "      <td>3</td>\n",
       "      <td>0</td>\n",
       "      <td>0</td>\n",
       "      <td>3</td>\n",
       "      <td>2</td>\n",
       "      <td>!!! RT @mayasolovely: As a woman you shouldn't...</td>\n",
       "    </tr>\n",
       "    <tr>\n",
       "      <th>1</th>\n",
       "      <td>1</td>\n",
       "      <td>3</td>\n",
       "      <td>0</td>\n",
       "      <td>3</td>\n",
       "      <td>0</td>\n",
       "      <td>1</td>\n",
       "      <td>!!!!! RT @mleew17: boy dats cold...tyga dwn ba...</td>\n",
       "    </tr>\n",
       "    <tr>\n",
       "      <th>2</th>\n",
       "      <td>2</td>\n",
       "      <td>3</td>\n",
       "      <td>0</td>\n",
       "      <td>3</td>\n",
       "      <td>0</td>\n",
       "      <td>1</td>\n",
       "      <td>!!!!!!! RT @UrKindOfBrand Dawg!!!! RT @80sbaby...</td>\n",
       "    </tr>\n",
       "  </tbody>\n",
       "</table>\n",
       "</div>"
      ],
      "text/plain": [
       "   Unnamed: 0  count  hate_speech  offensive_language  neither  class  \\\n",
       "0           0      3            0                   0        3      2   \n",
       "1           1      3            0                   3        0      1   \n",
       "2           2      3            0                   3        0      1   \n",
       "\n",
       "                                               tweet  \n",
       "0  !!! RT @mayasolovely: As a woman you shouldn't...  \n",
       "1  !!!!! RT @mleew17: boy dats cold...tyga dwn ba...  \n",
       "2  !!!!!!! RT @UrKindOfBrand Dawg!!!! RT @80sbaby...  "
      ]
     },
     "execution_count": 4,
     "metadata": {},
     "output_type": "execute_result"
    }
   ],
   "source": [
    "\n",
    "# ---- Load data reliably (latin-1 handles legacy bytes without crashing)\n",
    "df = pd.read_csv(DATA_CSV, encoding=\"latin-1\")\n",
    "df.columns = [c.strip() for c in df.columns]\n",
    "\n",
    "# Davidson dataset columns typically include: \n",
    "# [\"Unnamed: 0\",\"count\",\"hate_speech\",\"offensive_language\",\"neither\",\"class\",\"tweet\"]\n",
    "assert \"tweet\" in df.columns, f\"Expected a 'tweet' column. Found: {df.columns.tolist()}\"\n",
    "assert \"class\" in df.columns, f\"Expected a 'class' column. Found: {df.columns.tolist()}\"\n",
    "\n",
    "# Inputs/labels\n",
    "X_text = df[\"tweet\"].astype(str)\n",
    "y = pd.to_numeric(df[\"class\"], errors=\"raise\").astype(int)\n",
    "\n",
    "print(\"Loaded:\", X_text.shape[0], \"rows\")\n",
    "df.head(3)\n"
   ]
  },
  {
   "cell_type": "code",
   "execution_count": 5,
   "id": "98895b8a",
   "metadata": {},
   "outputs": [
    {
     "data": {
      "text/plain": [
       "0    !!! rt as a woman you shouldn't complain about...\n",
       "1    !!!!! rt boy dats cold...tyga dwn bad for cuff...\n",
       "2    !!!!!!! rt dawg!!!! rt you ever fuck a bitch a...\n",
       "Name: tweet, dtype: object"
      ]
     },
     "execution_count": 5,
     "metadata": {},
     "output_type": "execute_result"
    }
   ],
   "source": [
    "\n",
    "# ---- Text cleaning (kept simple & deterministic)\n",
    "URL_RE = re.compile(r\"http\\S+|www\\.\\S+\")\n",
    "MENTION_RE = re.compile(r\"@\\w+\")\n",
    "HASHTAG_RE = re.compile(r\"#\\w+\")\n",
    "MULTI_SPACE_RE = re.compile(r\"\\s+\")\n",
    "\n",
    "def clean_text(s: str) -> str:\n",
    "    s = s.lower()\n",
    "    s = URL_RE.sub(\" \", s)\n",
    "    s = MENTION_RE.sub(\" \", s)\n",
    "    s = HASHTAG_RE.sub(\" \", s)\n",
    "    s = re.sub(r\"[^a-z0-9\\s'!?.,]\", \" \", s)  # keep basic punctuation\n",
    "    s = MULTI_SPACE_RE.sub(\" \", s).strip()\n",
    "    return s\n",
    "\n",
    "X_clean = X_text.apply(clean_text)\n",
    "X_clean.head(3)\n"
   ]
  },
  {
   "cell_type": "code",
   "execution_count": 6,
   "id": "dc70e818",
   "metadata": {},
   "outputs": [
    {
     "name": "stdout",
     "output_type": "stream",
     "text": [
      "Accuracy: 0.8894492636675408\n",
      "              precision    recall  f1-score   support\n",
      "\n",
      "           0      0.487     0.388     0.432       286\n",
      "           1      0.934     0.933     0.934      3838\n",
      "           2      0.801     0.860     0.829       833\n",
      "\n",
      "    accuracy                          0.889      4957\n",
      "   macro avg      0.741     0.727     0.732      4957\n",
      "weighted avg      0.886     0.889     0.887      4957\n",
      "\n"
     ]
    }
   ],
   "source": [
    "\n",
    "# ---- Train/val split\n",
    "X_train, X_val, y_train, y_val = train_test_split(\n",
    "    X_clean, y, test_size=0.2, random_state=RANDOM_STATE, stratify=y\n",
    ")\n",
    "\n",
    "# ---- TF-IDF (bi-grams help this dataset)\n",
    "tfidf = TfidfVectorizer(\n",
    "    ngram_range=(1,2),\n",
    "    min_df=2,\n",
    "    max_df=0.98,\n",
    "    sublinear_tf=True,\n",
    "    lowercase=False,   # we already lowercased in clean_text\n",
    ")\n",
    "\n",
    "Xtr = tfidf.fit_transform(X_train)\n",
    "Xva = tfidf.transform(X_val)\n",
    "\n",
    "# ---- Classifier\n",
    "clf = LogisticRegression(\n",
    "    max_iter=2000,\n",
    "    class_weight=\"balanced\",\n",
    "    solver=\"liblinear\"  # stable for sparse/binary problems\n",
    ")\n",
    "\n",
    "clf.fit(Xtr, y_train)\n",
    "\n",
    "# ---- Quick eval\n",
    "pred_val = clf.predict(Xva)\n",
    "print(\"Accuracy:\", accuracy_score(y_val, pred_val))\n",
    "print(classification_report(y_val, pred_val, digits=3))\n"
   ]
  },
  {
   "cell_type": "code",
   "execution_count": 7,
   "id": "28734339",
   "metadata": {},
   "outputs": [
    {
     "name": "stdout",
     "output_type": "stream",
     "text": [
      "Saved:\n",
      " - classifier\\final_model.pkl\n",
      " - classifier\\final_tfidf.pkl\n",
      " - classifier\\final_idf.pkl\n",
      " - classifier\\final_pos.pkl\n"
     ]
    }
   ],
   "source": [
    "\n",
    "# ---- Ensure artifact dir exists\n",
    "os.makedirs(ARTIFACT_DIR, exist_ok=True)\n",
    "\n",
    "# Core artifacts\n",
    "joblib.dump(clf, MODEL_PATH)\n",
    "joblib.dump(tfidf, TFIDF_PATH)\n",
    "\n",
    "# Legacy/compat artifacts (if your classifier.py loads them)\n",
    "# - IDF: store the vectorizer's idf_ array\n",
    "# - POS: some repos expect a POS feature pickle; store an empty dict if unused\n",
    "try:\n",
    "    joblib.dump(getattr(tfidf, \"idf_\", None), IDF_PATH)\n",
    "except Exception as e:\n",
    "    print(\"Warning saving IDF:\", e)\n",
    "\n",
    "joblib.dump({}, POS_PATH)  # harmless placeholder\n",
    "\n",
    "print(\"Saved:\")\n",
    "print(\" -\", MODEL_PATH)\n",
    "print(\" -\", TFIDF_PATH)\n",
    "print(\" -\", IDF_PATH)\n",
    "print(\" -\", POS_PATH)\n"
   ]
  },
  {
   "cell_type": "code",
   "execution_count": 8,
   "id": "b8bffee5",
   "metadata": {},
   "outputs": [
    {
     "name": "stdout",
     "output_type": "stream",
     "text": [
      "2 -> Good morning everyone, have a great day!\n",
      "1 -> You're acting so stupid right now\n",
      "2 -> All people of XYZ group are disgusting and should disappear\n"
     ]
    }
   ],
   "source": [
    "\n",
    "# ---- Reload & test exactly like inference\n",
    "clf2 = joblib.load(MODEL_PATH)\n",
    "tfidf2 = joblib.load(TFIDF_PATH)\n",
    "\n",
    "def predict_texts(texts):\n",
    "    cleaned = [clean_text(t) for t in texts]\n",
    "    X = tfidf2.transform(cleaned)\n",
    "    return clf2.predict(X)\n",
    "\n",
    "samples = [\n",
    "    \"Good morning everyone, have a great day!\",\n",
    "    \"You're acting so stupid right now\",\n",
    "    \"All people of XYZ group are disgusting and should disappear\"\n",
    "]\n",
    "preds = predict_texts(samples)\n",
    "for s,p in zip(samples, preds):\n",
    "    print(p, \"->\", s)\n"
   ]
  },
  {
   "cell_type": "markdown",
   "id": "433e334a",
   "metadata": {},
   "source": [
    "\n",
    "### Optional helper functions (if you want to mirror `classifier.py` helpers here)\n"
   ]
  },
  {
   "cell_type": "code",
   "execution_count": 9,
   "id": "6725c2fe",
   "metadata": {},
   "outputs": [
    {
     "name": "stdout",
     "output_type": "stream",
     "text": [
      "0 Hate speech -> I hate you\n",
      "0 Hate speech -> You are amazing!\n",
      "2 Neither -> What a stupid idea\n",
      "2 Neither -> Good morning everyone :)\n"
     ]
    }
   ],
   "source": [
    "\n",
    "ID2NAME = {0: \"Hate speech\", 1: \"Offensive language\", 2: \"Neither\"}\n",
    "def class_to_name(i): return ID2NAME.get(int(i), str(i))\n",
    "\n",
    "def get_tweets_predictions(text_list):\n",
    "    cleaned = [clean_text(t) for t in text_list]\n",
    "    X = tfidf2.transform(cleaned)\n",
    "    return clf2.predict(X)\n",
    "\n",
    "# Demo format identical to classifier.py printing\n",
    "demo = [\n",
    "    \"I hate you\",\n",
    "    \"You are amazing!\",\n",
    "    \"What a stupid idea\",\n",
    "    \"Good morning everyone :)\"\n",
    "]\n",
    "preds = get_tweets_predictions(demo)\n",
    "for s,p in zip(demo, preds):\n",
    "    print(int(p), class_to_name(int(p)), \"->\", s)\n"
   ]
  }
 ],
 "metadata": {
  "kernelspec": {
   "display_name": "Python 3",
   "language": "python",
   "name": "python3"
  },
  "language_info": {
   "codemirror_mode": {
    "name": "ipython",
    "version": 3
   },
   "file_extension": ".py",
   "mimetype": "text/x-python",
   "name": "python",
   "nbconvert_exporter": "python",
   "pygments_lexer": "ipython3",
   "version": "3.12.0"
  }
 },
 "nbformat": 4,
 "nbformat_minor": 5
}
